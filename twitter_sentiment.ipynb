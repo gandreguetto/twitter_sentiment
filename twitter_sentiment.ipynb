{
 "cells": [
  {
   "cell_type": "markdown",
   "metadata": {},
   "source": [
    "# Coleta e análise de sentimento de tweets\n",
    "\n",
    "Nesse projeto eu faço coletas de tweets utilizando a api do Twitter através da biblioteca tweepy e realizo análises de sentimento utilizando a biblioteca TextBlob. \n",
    "\n",
    "Inicialmente eu analiso tweets sobre alguns líderes mundiais e mostro a porcentagem de tweets negativos, neutros e positivos para cada um. Em seguida, eu faço uma brincadeira e analiso os sentimentos sobre os tweets que mencionam a Peppa Pig e também os tweets sobre o Bob Esponja.  Por fim, eu analiso os tweets sobre as séries Stranger Things e Better Caul Saul.\n",
    "\n",
    "As análises são realizadas nos textos dos últimos 200 tweets a partir do momento de início da coleta. Um tweet é classificado como: 'Negativo' se a métrica de polaridade fornecida pelo TextBlob é menor do que -0.1, 'Positivo' se a polaridade é maior do que 0.1 e 'Neutro' se encontra-se entre esses valores. \n",
    "\n",
    "Esse projeto foi desenvolvido para práticar técnicas de extração de tweets e explorar o uso das biblioteca tweepy e TextBlob. Os resultados obtidos não devem ser utilizados para tomar conclusões sobre as avaliações das pessoas, personagens e séries mencionadas. \n",
    "\n",
    "Para desenvolver o projeto eu utilizei as seguintes referências:\n",
    "\n",
    "* vídeo da Kizzy Terra, do canal Programação Dinâmica (https://www.youtube.com/watch?v=RssGfmtyn4A)\n",
    "* vídeo do Mehran Shakarami, do canal AI Spectrum (https://www.youtube.com/watch?v=Lu1nskBkPJU&t=11s)\n",
    "* aulas do professor Tulio Philipe para o curso Cientista de Dados da XP educação.\n"
   ]
  },
  {
   "cell_type": "markdown",
   "metadata": {},
   "source": [
    "# Importando bibliotecas"
   ]
  },
  {
   "cell_type": "code",
   "execution_count": 1,
   "metadata": {},
   "outputs": [],
   "source": [
    "import re # utilizada para \"limpar\" os tweets\n",
    "import tweepy # utilizada para acessar a api do Twitter \n",
    "import pandas as pd\n",
    "import matplotlib.pyplot as plt\n",
    "import seaborn as sns\n",
    "\n",
    "from textblob import TextBlob # utilizada para realizar as análises de sentimento\n",
    "from unidecode import unidecode # utilizada para decodificar caracteres não textuais    "
   ]
  },
  {
   "cell_type": "code",
   "execution_count": 2,
   "metadata": {},
   "outputs": [],
   "source": [
    "import configparser # utilizada para ler as chaves de acesso\n",
    "\n",
    "config = configparser.ConfigParser()\n",
    "config.read('config.ini') # lê o arquivo contendo as chaves de acesso\n",
    "\n",
    "# chaves de acesso à api do Twitter\n",
    "consumer_key = config['twitter']['consumer_key']\n",
    "consumer_secret = config['twitter']['consumer_secret']\n",
    "access_token = config['twitter']['access_token']\n",
    "access_token_secret = config['twitter']['access_token_secret']\n",
    "\n",
    "# autenticando o usuário\n",
    "auth = tweepy.OAuthHandler(consumer_key, consumer_secret)\n",
    "auth.set_access_token(access_token, access_token_secret)\n",
    "\n",
    "api = tweepy.API(auth)"
   ]
  },
  {
   "cell_type": "code",
   "execution_count": 3,
   "metadata": {},
   "outputs": [],
   "source": [
    "def clean_tweet(tweet):\n",
    "    '''\n",
    "    Remove links e caractéres especiais\n",
    "    \n",
    "    :param tweet: string\n",
    "    \n",
    "    Retirada do projeto do Pandiyan Murugan \n",
    "    que encontra-se no endereço: \n",
    "    https://efficientuser.com/2022/05/08/twitter-sentiment-analysis-using-python/\n",
    "    \n",
    "    '''\n",
    "    \n",
    "    return ' '.join(re.sub(\"(@[A-Za-z0-9]+)|([^0-9A-Za-z \\t])|(\\w+:\\/\\/\\S+)\", \n",
    "                           \" \", tweet).split())"
   ]
  },
  {
   "cell_type": "code",
   "execution_count": 4,
   "metadata": {},
   "outputs": [],
   "source": [
    "def get_tweets(term):\n",
    "    \"\"\"\n",
    "    Busca por tweets utilizando um termo de entrada\n",
    "    \n",
    "    :param term: string \n",
    "\n",
    "    \"\"\"\n",
    "    tweets = tweepy.Cursor(api.search_tweets, q=\"{} lang:en -filter:retweets\".format(term), \n",
    "                           tweet_mode = \"extended\").items(5)\n",
    "    \n",
    "\n",
    "    return tweets"
   ]
  },
  {
   "cell_type": "code",
   "execution_count": 12,
   "metadata": {},
   "outputs": [],
   "source": [
    "def extract_text(tweets):\n",
    "    \"\"\"\n",
    "    Recebe arquivos de tweets e extrai os textos dos arquivos\n",
    "    \n",
    "    :param tweets: tweepy status object\n",
    "    \n",
    "    \"\"\"\n",
    "    \n",
    "    text = []\n",
    "\n",
    "    for tweet in tweets:\n",
    "        text.append(tweet.full_text)\n",
    "\n",
    "    return text"
   ]
  },
  {
   "cell_type": "code",
   "execution_count": 13,
   "metadata": {},
   "outputs": [],
   "source": [
    "def sentiment(text):\n",
    "    \"\"\"\n",
    "    Recebe os textos dos tweets e analisa o sentimento\n",
    "    \n",
    "    :param text: lista de strings\n",
    "    \n",
    "    \"\"\"\n",
    "\n",
    "    s = []\n",
    "\n",
    "    for txt in text:\n",
    "        decoded = unidecode(txt) # remove elementos não textuais\n",
    "        senti = TextBlob(clean_tweet(str(decoded)))\n",
    "        polarity = senti.polarity\n",
    "        if polarity < -0.1:\n",
    "            s.append('Negativo')\n",
    "        elif polarity > 0.1:\n",
    "            s.append('Positivo')\n",
    "        else:\n",
    "            s.append('Neutro')\n",
    "    \n",
    "    return s"
   ]
  },
  {
   "cell_type": "code",
   "execution_count": 14,
   "metadata": {},
   "outputs": [],
   "source": [
    "def sentiment_fraction(sentiments):\n",
    "    \"\"\"\n",
    "    Recebe uma lista com os sentimentos e retorna um dicionário \n",
    "    com a porcentagem de cada sentimento\n",
    "    \n",
    "    :param sentiments: lista de strings\n",
    "    \n",
    "    \"\"\"\n",
    "\n",
    "    series = pd.Series(sentiments)\n",
    "\n",
    "    tot = len(series)\n",
    "    num_pos = sum(series == 'Positivo')\n",
    "    num_neg = sum(series == 'Negativo')\n",
    "    num_neu = tot - num_pos - num_neg\n",
    "\n",
    "    return {'Positivo' : num_pos * 100 / tot, \n",
    "            'Neutro' : num_neu * 100 / tot, \n",
    "            'Negativo' : num_neg * 100 / tot}"
   ]
  },
  {
   "cell_type": "markdown",
   "metadata": {},
   "source": [
    "A primeira análise é feita sobre alguns líderes mundiais. No dicionário a seguir eu descrevo o nome dos líderes e os termos de busca."
   ]
  },
  {
   "cell_type": "code",
   "execution_count": 15,
   "metadata": {},
   "outputs": [],
   "source": [
    "politicians = {'Justin Trudeau' : 'justintrudeau',\n",
    "               'Jacinda Ardern' : 'jacindaardern',\n",
    "               'Boris Johnson' : 'borisjohnson',\n",
    "               'Joe Biden' : 'joebiden'}"
   ]
  },
  {
   "cell_type": "code",
   "execution_count": 16,
   "metadata": {},
   "outputs": [],
   "source": [
    "def sentiment_df(terms):\n",
    "    \"\"\"\n",
    "    Recebe termos de busca e constrói um dataframe\n",
    "    com a porcentagem dos sentimentos para cada termo\n",
    "    \n",
    "    :param terms: dictionary of search terms\n",
    "    \n",
    "    \"\"\"\n",
    "    \n",
    "    df = pd.DataFrame()\n",
    "\n",
    "    for name in terms:\n",
    "        tweets = get_tweets(name) # coleta os tweets   \n",
    "        tweet_text = extract_text(tweets) # extrai somente o texto dos tweets \n",
    "        sentim_list = sentiment(tweet_text) # analisa o sentimento de cada tweet\n",
    "        fraction = sentiment_fraction(sentim_list) # obtém a porcentagem de cada sentimento\n",
    "        df = df.append(fraction, ignore_index = True) \n",
    "    \n",
    "    df['Names'] = terms\n",
    "    df = df.set_index(['Names']) \n",
    "    \n",
    "    return df"
   ]
  },
  {
   "cell_type": "code",
   "execution_count": 17,
   "metadata": {},
   "outputs": [],
   "source": [
    "# constrói um dataframe com os sentimentos sobre os políticos\n",
    "df_politicians = sentiment_df(politicians)"
   ]
  },
  {
   "cell_type": "code",
   "execution_count": 18,
   "metadata": {},
   "outputs": [
    {
     "data": {
      "text/html": [
       "<div>\n",
       "<style scoped>\n",
       "    .dataframe tbody tr th:only-of-type {\n",
       "        vertical-align: middle;\n",
       "    }\n",
       "\n",
       "    .dataframe tbody tr th {\n",
       "        vertical-align: top;\n",
       "    }\n",
       "\n",
       "    .dataframe thead th {\n",
       "        text-align: right;\n",
       "    }\n",
       "</style>\n",
       "<table border=\"1\" class=\"dataframe\">\n",
       "  <thead>\n",
       "    <tr style=\"text-align: right;\">\n",
       "      <th></th>\n",
       "      <th>Negativo</th>\n",
       "      <th>Neutro</th>\n",
       "      <th>Positivo</th>\n",
       "    </tr>\n",
       "    <tr>\n",
       "      <th>Names</th>\n",
       "      <th></th>\n",
       "      <th></th>\n",
       "      <th></th>\n",
       "    </tr>\n",
       "  </thead>\n",
       "  <tbody>\n",
       "    <tr>\n",
       "      <th>Jacinda Ardern</th>\n",
       "      <td>0.0</td>\n",
       "      <td>40.0</td>\n",
       "      <td>60.0</td>\n",
       "    </tr>\n",
       "    <tr>\n",
       "      <th>Justin Trudeau</th>\n",
       "      <td>40.0</td>\n",
       "      <td>20.0</td>\n",
       "      <td>40.0</td>\n",
       "    </tr>\n",
       "    <tr>\n",
       "      <th>Boris Johnson</th>\n",
       "      <td>0.0</td>\n",
       "      <td>100.0</td>\n",
       "      <td>0.0</td>\n",
       "    </tr>\n",
       "    <tr>\n",
       "      <th>Joe Biden</th>\n",
       "      <td>40.0</td>\n",
       "      <td>60.0</td>\n",
       "      <td>0.0</td>\n",
       "    </tr>\n",
       "  </tbody>\n",
       "</table>\n",
       "</div>"
      ],
      "text/plain": [
       "                Negativo  Neutro  Positivo\n",
       "Names                                     \n",
       "Jacinda Ardern       0.0    40.0      60.0\n",
       "Justin Trudeau      40.0    20.0      40.0\n",
       "Boris Johnson        0.0   100.0       0.0\n",
       "Joe Biden           40.0    60.0       0.0"
      ]
     },
     "execution_count": 18,
     "metadata": {},
     "output_type": "execute_result"
    }
   ],
   "source": [
    "df_politicians.sort_values('Positivo', ascending = False)"
   ]
  },
  {
   "cell_type": "code",
   "execution_count": 20,
   "metadata": {},
   "outputs": [
    {
     "data": {
      "image/png": "[encoded data removed]",
      "text/plain": [
       "<Figure size 432x288 with 1 Axes>"
      ]
     },
     "metadata": {},
     "output_type": "display_data"
    }
   ],
   "source": [
    "def barplot_sentiments(df):\n",
    "    \"\"\"\n",
    "    Cria um stacked barplot horizontal com os sentimentos contidos\n",
    "    em cada linha do dataframe\n",
    "    \n",
    "    :param df: pandas dataframe\n",
    "    \n",
    "    \"\"\"\n",
    "    \n",
    "    df = df.sort_values('Positivo', ascending = True)\n",
    "    sns.set(style='white')\n",
    "\n",
    "    df.plot(kind='barh', stacked=True, color=['red', 'gray', 'green'])\n",
    " \n",
    "    # labels para os eixos x e y \n",
    "    plt.xlabel('%')\n",
    "    plt.ylabel('')\n",
    "    # título do plot\n",
    "    plt.title('Análise de sentimentos de tweets\\n', fontsize = 16)\n",
    "    # adiciona legenda \n",
    "    plt.legend(bbox_to_anchor =(1.3, .85), frameon = False)\n",
    "\n",
    "    plt.show()\n",
    "   \n",
    "# cria um barplot para os sentimentos dos políticos\n",
    "barplot_sentiments(df_politicians)"
   ]
  },
  {
   "cell_type": "markdown",
   "metadata": {},
   "source": [
    "Agora a análise será realizada nos tweets sobre os personagens infantis Peppa Pig e Bob Esponja."
   ]
  },
  {
   "cell_type": "code",
   "execution_count": 21,
   "metadata": {},
   "outputs": [],
   "source": [
    "# cria um dicionário com o nome dos personagens e termos de busca\n",
    "personagens = {'Peppa Pig' : 'peppapig',\n",
    "               'Bob Esponja' : 'spongebob'}"
   ]
  },
  {
   "cell_type": "code",
   "execution_count": 22,
   "metadata": {},
   "outputs": [],
   "source": [
    "# cria um datafram com os sentimentos sobre os personagens\n",
    "df_personagens = sentiment_df(personagens)"
   ]
  },
  {
   "cell_type": "code",
   "execution_count": 23,
   "metadata": {},
   "outputs": [
    {
     "data": {
      "image/png": "[encoded data removed]",
      "text/plain": [
       "<Figure size 432x288 with 1 Axes>"
      ]
     },
     "metadata": {},
     "output_type": "display_data"
    }
   ],
   "source": [
    "# desenha um barplot horizontal com os percentuais de cada sentimento dos personagens \n",
    "barplot_sentiments(df_personagens)"
   ]
  },
  {
   "cell_type": "code",
   "execution_count": 24,
   "metadata": {},
   "outputs": [],
   "source": [
    "# séries de tv e termos de busca\n",
    "tv_series = {'Stranger Things' : 'strangerthings',\n",
    "          'Better Call Saul' : 'bettercallsaul'}"
   ]
  },
  {
   "cell_type": "code",
   "execution_count": 25,
   "metadata": {},
   "outputs": [],
   "source": [
    "# constrói o dataframe com os sentimentos sobre as séries\n",
    "df_series = sentiment_df(tv_series)"
   ]
  },
  {
   "cell_type": "code",
   "execution_count": 26,
   "metadata": {},
   "outputs": [
    {
     "data": {
      "image/png": "[encoded data removed]",
      "text/plain": [
       "<Figure size 432x288 with 1 Axes>"
      ]
     },
     "metadata": {},
     "output_type": "display_data"
    }
   ],
   "source": [
    "# desenha o gráfico de barras horizontais contendo as frações correspondentes dos sentimentos\n",
    "barplot_sentiments(df_series)"
   ]
  }
 ],
 "metadata": {
  "kernelspec": {
   "display_name": "Python 3 (ipykernel)",
   "language": "python",
   "name": "python3"
  },
  "language_info": {
   "codemirror_mode": {
    "name": "ipython",
    "version": 3
   },
   "file_extension": ".py",
   "mimetype": "text/x-python",
   "name": "python",
   "nbconvert_exporter": "python",
   "pygments_lexer": "ipython3",
   "version": "3.8.10"
  }
 },
 "nbformat": 4,
 "nbformat_minor": 4
}
